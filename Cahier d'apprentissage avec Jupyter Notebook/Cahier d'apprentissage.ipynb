{
 "cells": [
  {
   "cell_type": "markdown",
   "metadata": {},
   "source": [
    "# Sommaire\n",
    " \n",
    "- [<u> Les bases de python</u>](#les_bases_de_python)\n",
    "- [<u>L'environnement Conda</u>](#l'environnement_conda)\n",
    "- [<u>La programmation Web</u>](#la_programmation_web) \n",
    "- [<u>Les Bases de données (BDD)</u>](#les_bases_de_données)\n",
    "- [<u>Jupyter Notebook</u>](#notebook)\n",
    "- [<u>Le Machine learning</u>](#machine_learning)\n",
    "- [<u>Analyse et conception du systeme d'information (Merise)</u>](#merise)\n",
    "- [<u>Les Bibliothèques Python</u>](#bibliothèques_python) \n",
    "\n",
    "\n",
    "\n"
   ]
  },
  {
   "cell_type": "markdown",
   "metadata": {},
   "source": [
    "# Les Bases de python <a id='les_bases_de_python'></a>\n"
   ]
  },
  {
   "cell_type": "markdown",
   "metadata": {},
   "source": [
    "\n",
    "\n",
    "- [Documentation officiel python](https://docs.python.org/fr/3/)\n",
    "- [Documentation les bases de python](https://courspython.com/bases-python.html)\n",
    "- [Une liste de pdf pour les bases de python](ressources\\Cours_Python) \n",
    "- [Exemple de Chaine youtube avec tutoriel](https://www.youtube.com/watch?v=psaDHhZ0cPs)\n",
    "- [Formation Udmy (payante) de Thibaut Houdon](https://www.udemy.com/course/formation-complete-python/)\n",
    "    "
   ]
  },
  {
   "cell_type": "markdown",
   "metadata": {},
   "source": [
    "# l'Environnement Conda<a id=\"l'environnement_conda\"></a> "
   ]
  },
  {
   "cell_type": "markdown",
   "metadata": {},
   "source": [
    "- [ PDF Installer et manipuler l'environnement Conda ](ressources\\Conda)"
   ]
  },
  {
   "cell_type": "markdown",
   "metadata": {},
   "source": [
    "#  La programmation Web<a id='la_programation_web'></a> "
   ]
  },
  {
   "cell_type": "markdown",
   "metadata": {},
   "source": [
    "- [Petit Blog avec Flask](ressources\\Dev_Web\\Flask)\n",
    "- [HTML/CSS Exercices corrigés](Exercices\\Corrections_exercices\\HTML_CSS)"
   ]
  },
  {
   "cell_type": "markdown",
   "metadata": {},
   "source": [
    "# Les Bases de données<a id='les_bases_de_données'></a> "
   ]
  },
  {
   "cell_type": "markdown",
   "metadata": {},
   "source": [
    "- [Cours BDD](ressources/BDD)\n",
    "- [Les requêtes SQL](ressources\\BDD\\SQL_requetes)\n",
    "- [MySQL en lignes de commandes depuis le terminal](ressources\\MySQL_en_lignes_de_commandes_depuis_le_terminal)\n",
    "- [ PDF PhpMyAdmin](ressources\\BDD\\PhpMyAdmin)\n"
   ]
  },
  {
   "cell_type": "markdown",
   "metadata": {},
   "source": [
    "# Jupyter Notebook<a id='notebook'></a> \n"
   ]
  },
  {
   "cell_type": "markdown",
   "metadata": {},
   "source": [
    "- [Documenation officiel de Jupyter Notebook](https://jupyterbook.org/start/overview.html#anatomy-of-a-book)\n"
   ]
  },
  {
   "cell_type": "markdown",
   "metadata": {},
   "source": [
    "# Le Machine learning<a id='machine_learning'></a> "
   ]
  },
  {
   "cell_type": "markdown",
   "metadata": {},
   "source": [
    "- [PDF Livre Machine learnia](ressources\\Machine_Learning)\n",
    "- [Site de Machine learnia](https://machinelearnia.com/)\n",
    "- [Chaine youtube de machine learnia](https://www.youtube.com/channel/UCmpptkXu8iIFe6kfDK5o7VQ)"
   ]
  },
  {
   "cell_type": "markdown",
   "metadata": {},
   "source": [
    "# Analyse et conception du systeme d'information<a id='merise'></a> "
   ]
  },
  {
   "cell_type": "markdown",
   "metadata": {},
   "source": [
    "- [PDF Méthode_Merise ](ressources\\Méthode_Merise)"
   ]
  },
  {
   "cell_type": "markdown",
   "metadata": {},
   "source": [
    "# Les Bibliothèques Python<a id='bibliothèques_python'></a> "
   ]
  },
  {
   "cell_type": "markdown",
   "metadata": {},
   "source": [
    "- [PDF Numpy](ressources\\Bibliothèques_Python\\Numpy)"
   ]
  }
 ],
 "metadata": {
  "kernelspec": {
   "display_name": "Python 3",
   "language": "python",
   "name": "python3"
  },
  "language_info": {
   "codemirror_mode": {
    "name": "ipython",
    "version": 3
   },
   "file_extension": ".py",
   "mimetype": "text/x-python",
   "name": "python",
   "nbconvert_exporter": "python",
   "pygments_lexer": "ipython3",
   "version": "3.8.3"
  }
 },
 "nbformat": 4,
 "nbformat_minor": 2
}
