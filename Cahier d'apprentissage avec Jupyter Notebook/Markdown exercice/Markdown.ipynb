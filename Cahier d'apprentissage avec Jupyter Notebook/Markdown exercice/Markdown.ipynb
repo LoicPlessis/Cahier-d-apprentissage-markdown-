{
 "cells": [
  {
   "cell_type": "markdown",
   "metadata": {},
   "source": [
    "# Flask \n"
   ]
  },
  {
   "cell_type": "markdown",
   "metadata": {},
   "source": [
    "Flask est un petit framework web Python léger, qui fournit des outils et des fonctionnalités utiles qui facilitent la création d'applications web en Python.\n",
    "\n",
    "Flask utilise le moteur de modèle Jinja pour construire dynamiquement des pages HTML en utilisant des concepts Python familiers tels que les variables, les boucles, les listes, etc.\n",
    "\n",
    "[un comparatif Flask/Django](https://www.kicklox.com/flask-vs-django-framework-python/#:~:text=Flask%20est%20aujourd'hui%20tr%C3%A8s,une%20architecture%20en%20micro%2Dservices.&text=Django%20est%20un%20framework%20de,suivant%20une%20architecture%20bien%20pr%C3%A9cise.)\n",
    "\n",
    "Il faut installer Flask avec la commande ` pip: pip install flask`"
   ]
  },
  {
   "cell_type": "code",
   "execution_count": null,
   "metadata": {},
   "outputs": [],
   "source": [
    "\n",
    "\n",
    "#import de la biblio\n",
    "from flask import Flask\n",
    "\n"
   ]
  },
  {
   "cell_type": "markdown",
   "metadata": {},
   "source": [
    "# Le serveur Web "
   ]
  },
  {
   "cell_type": "markdown",
   "metadata": {},
   "source": [
    "Voici comment démarrer un serveur web et afficher une première information sur un navigateur.\n"
   ]
  },
  {
   "cell_type": "code",
   "execution_count": null,
   "metadata": {},
   "outputs": [],
   "source": [
    "# __name__ super variable qui contient le nom du module Python courant\n",
    "app = Flask(__name__)\n",
    "\n",
    "# décorateur qui va servir la fonction en réponse http\n",
    "# ici c'est la racine du serveur web '/'\n",
    "@app.route('/')\n",
    "def hello():\n",
    "    return 'Hello, World!'\n",
    "\n",
    "# Démarer le serveur\n",
    "# le debug=true permet d'afficher les messages du serveur dans la console\n",
    "if __name__ == \"__main__\":\n",
    "    app.run(debug=True)"
   ]
  },
  {
   "cell_type": "markdown",
   "metadata": {},
   "source": [
    "# page Html \n"
   ]
  },
  {
   "attachments": {},
   "cell_type": "markdown",
   "metadata": {},
   "source": [
    "Les applications web utilisent principalement le HTML pour afficher des informations. Il faut donc intégrer des fichiers HTML à votre application, pour obtenir des pages web.\n",
    "\n",
    "Flask fournit une fonction d'aide `render_template`qui permet l'utilisation du [moteur de modèle Jinja.](![image.png](attachment:image.png)) Cela facilitera grandement la gestion des pages en écrivant votre code directement dans des fichiers `.html.`"
   ]
  },
  {
   "cell_type": "code",
   "execution_count": null,
   "metadata": {},
   "outputs": [],
   "source": [
    "from flask import Flask, render_template\n",
    "\n",
    "app = Flask(__name__)\n",
    "\n",
    "@app.route('/')\n",
    "def index():\n",
    "    # return le rendu d'un fichier html\n",
    "    return render_template('index.html')\n",
    "\n"
   ]
  },
  {
   "cell_type": "markdown",
   "metadata": {},
   "source": [
    "Pour que ça fonctionne, le fichier `index.html`doit être dans un répertoire `templates` placé à la racine du projet.\n",
    "\n",
    "Les applications web de Flask disposent aussi d'un dossier `static` pour l'hébergement des fichiers ressources (css, images, js...).\n"
   ]
  },
  {
   "cell_type": "code",
   "execution_count": 1,
   "metadata": {},
   "outputs": [
    {
     "ename": "SyntaxError",
     "evalue": "invalid syntax (<ipython-input-1-6e701ce7b06c>, line 1)",
     "output_type": "error",
     "traceback": [
      "\u001b[1;36m  File \u001b[1;32m\"<ipython-input-1-6e701ce7b06c>\"\u001b[1;36m, line \u001b[1;32m1\u001b[0m\n\u001b[1;33m    <!-- fichier templates/index.html -->\u001b[0m\n\u001b[1;37m    ^\u001b[0m\n\u001b[1;31mSyntaxError\u001b[0m\u001b[1;31m:\u001b[0m invalid syntax\n"
     ]
    }
   ],
   "source": [
    "<!-- fichier templates/index.html -->\n",
    "<!DOCTYPE html>\n",
    "<html lang=\"en\">\n",
    "<head>\n",
    "    <meta charset=\"UTF-8\">\n",
    "    <meta name=\"viewport\" content=\"width=device-width, initial-scale=1.0\">\n",
    "    <title>Python web</title>\n",
    "    <!-- va rechercher les ressources dans /static grâce à url_for()-->\n",
    "    <link rel=\"stylesheet\" href=\"{{ url_for('static', filename= 'css/style.css') }}\">\n",
    "</head>\n",
    "<body>\n",
    "    <h1>Hello</h1>\n",
    "</body>\n",
    "</html>"
   ]
  },
  {
   "cell_type": "markdown",
   "metadata": {},
   "source": [
    "l'injection de code, dans le template, se fait par `{{}}` et la méthode `url_for()` va générer le chemin à partir du répertoire `static` lorsque celui-ci est spécifié en premier argument, et dont le fichier est défini en second argument `filename= 'css/style.css'.`"
   ]
  },
  {
   "cell_type": "code",
   "execution_count": null,
   "metadata": {},
   "outputs": [],
   "source": [
    "/* fichier static/css/style.css */\n",
    "h1{\n",
    "    width:100%;\n",
    "    color:white;\n",
    "    background-color: black;\n",
    "    text-align: center;\n",
    "}"
   ]
  },
  {
   "cell_type": "markdown",
   "metadata": {},
   "source": [
    "Ce code a pour résultat :\n",
    "![image](https://myoctocat.com/assets/images/base-octocat.svg)"
   ]
  },
  {
   "cell_type": "markdown",
   "metadata": {},
   "source": [
    "# L'héritage de modèles"
   ]
  },
  {
   "cell_type": "markdown",
   "metadata": {},
   "source": [
    "On va profiter du code Python pour ne pas avoir toutes les pages à créer en HTML. [Jinja propose un système d'héritage](https://jinja.palletsprojects.com/en/2.10.x/templates/#template-inheritance) qui aide à la conception de modèles et à sa réutilisation dans les pages web."
   ]
  },
  {
   "cell_type": "markdown",
   "metadata": {},
   "source": [
    "\n",
    "\n",
    "   - `{% block title %} {% endblock %}`ce bloque de titre indique où il faut insérer le titre sur la page html.\n",
    "   - `{{url_for('index')}}`: retourne l'url correspondant à la fonction `index()`dans le code Python.\n",
    "   - `{% block content %} {% endblock %}`: ce bloque de contenu indique où il faut insérer le contenu sur la page html.\n"
   ]
  },
  {
   "cell_type": "markdown",
   "metadata": {},
   "source": [
    "Il existe encore beaucoup d'autres bloques, détaillés dans la doc officiel de Jinja."
   ]
  },
  {
   "cell_type": "code",
   "execution_count": 2,
   "metadata": {},
   "outputs": [
    {
     "ename": "SyntaxError",
     "evalue": "invalid syntax (<ipython-input-2-413697c02bce>, line 1)",
     "output_type": "error",
     "traceback": [
      "\u001b[1;36m  File \u001b[1;32m\"<ipython-input-2-413697c02bce>\"\u001b[1;36m, line \u001b[1;32m1\u001b[0m\n\u001b[1;33m    <!-- fichier templates/index.html -->\u001b[0m\n\u001b[1;37m    ^\u001b[0m\n\u001b[1;31mSyntaxError\u001b[0m\u001b[1;31m:\u001b[0m invalid syntax\n"
     ]
    }
   ],
   "source": [
    "<!-- fichier templates/index.html -->\n",
    "{% extends 'base.html' %}\n",
    "\n",
    "\n",
    "{% block content %}\n",
    "    <h1>{% block title %} Hello {% endblock %}</h1>\n",
    "\n",
    "    <p>\n",
    "    Lorem ipsum dolor sit, amet consectetur adipisicing elit. Labore sit, autem aspernatur numquam inventore ut illum excepturi laborum magnam vitae quaerat distinctio assumenda ea. Perspiciatis facilis exercitationem optio laudantium quis.\n",
    "    </p>\n",
    "{% endblock %}"
   ]
  },
  {
   "cell_type": "markdown",
   "metadata": {},
   "source": [
    "\n",
    "\n",
    "- `{% extends 'base.html' %}`: hérite du template base.html.\n",
    "- `{% block content %} {% endblock %}`: définition du contenu à insérer.\n",
    "- `{% block title %} {% endblock %}`:définition du titre à insérer.\n",
    "\n"
   ]
  },
  {
   "cell_type": "markdown",
   "metadata": {},
   "source": [
    "## Data binding"
   ]
  },
  {
   "cell_type": "markdown",
   "metadata": {},
   "source": [
    "Il est possible de passer des valeurs au fichier html à partir du Python en passant par un dictionnaire."
   ]
  },
  {
   "cell_type": "code",
   "execution_count": 3,
   "metadata": {},
   "outputs": [
    {
     "name": "stdout",
     "output_type": "stream",
     "text": [
      " * Serving Flask app '__main__' (lazy loading)\n",
      " * Environment: production\n",
      "   WARNING: This is a development server. Do not use it in a production deployment.\n",
      "   Use a production WSGI server instead.\n",
      " * Debug mode: on\n"
     ]
    },
    {
     "name": "stderr",
     "output_type": "stream",
     "text": [
      " * Restarting with watchdog (windowsapi)\n"
     ]
    },
    {
     "ename": "SystemExit",
     "evalue": "1",
     "output_type": "error",
     "traceback": [
      "An exception has occurred, use %tb to see the full traceback.\n",
      "\u001b[1;31mSystemExit\u001b[0m\u001b[1;31m:\u001b[0m 1\n"
     ]
    },
    {
     "name": "stderr",
     "output_type": "stream",
     "text": [
      "C:\\Users\\utilisateur\\anaconda3\\lib\\site-packages\\IPython\\core\\interactiveshell.py:3351: UserWarning: To exit: use 'exit', 'quit', or Ctrl-D.\n",
      "  warn(\"To exit: use 'exit', 'quit', or Ctrl-D.\", stacklevel=1)\n"
     ]
    }
   ],
   "source": [
    "#import de la biblio\n",
    "from flask import Flask, render_template\n",
    "\n",
    "# __name__ super variable qui contient le nom du module Python courant\n",
    "app = Flask(__name__)\n",
    "\n",
    "# décorateur qui va servir la fonction en réponse http\n",
    "# ici c'est la racine du serveur web '/'\n",
    "@app.route('/')\n",
    "def index():\n",
    "    menus = [\"à gauche\", \"à droite\"]\n",
    "    # dictionnaire de valeurs à paser à la page web\n",
    "    contenu = {\"titre\":\"Hello\", \"menu\":menus}\n",
    "    # render_template() prend en paramètre le dictionnaire de valeurs\n",
    "    return render_template('index.html', contenu = contenu)\n",
    "\n",
    "if __name__ == \"__main__\":\n",
    "    app.run(debug=True)"
   ]
  },
  {
   "cell_type": "code",
   "execution_count": 4,
   "metadata": {},
   "outputs": [
    {
     "ename": "SyntaxError",
     "evalue": "invalid syntax (<ipython-input-4-00708bae73b6>, line 1)",
     "output_type": "error",
     "traceback": [
      "\u001b[1;36m  File \u001b[1;32m\"<ipython-input-4-00708bae73b6>\"\u001b[1;36m, line \u001b[1;32m1\u001b[0m\n\u001b[1;33m    <!-- fichier templates/index.html -->\u001b[0m\n\u001b[1;37m    ^\u001b[0m\n\u001b[1;31mSyntaxError\u001b[0m\u001b[1;31m:\u001b[0m invalid syntax\n"
     ]
    }
   ],
   "source": [
    "<!-- fichier templates/index.html -->\n",
    "\n",
    "{% extends 'base.html' %}\n",
    "\n",
    "\n",
    "{% block content %}\n",
    "    <h1>{% block title %} {{contenu[\"titre\"] }} {% endblock %}</h1>\n",
    "\n",
    "    <p>\n",
    "    Lorem ipsum dolor sit, amet consectetur adipisicing elit. Labore sit, autem aspernatur numquam inventore ut illum excepturi laborum magnam vitae quaerat distinctio assumenda ea. Perspiciatis facilis exercitationem optio laudantium quis.\n",
    "    </p>\n",
    "    <ul>\n",
    "        {% for el in contenu[\"menu\"] %}\n",
    "        <li>{{el}}</li>\n",
    "        {% endfor%}\n",
    "    </ul>\n",
    "{% endblock %}"
   ]
  },
  {
   "cell_type": "markdown",
   "metadata": {},
   "source": [
    "L'injection de valeurs se fait par `{{}}`. Il faut reprendre le nom de la variable donnée dans le `render_template()` du Python, et préciser entre `[]`la clé de la variable à injecter, puisque c'est un dictionnaire. A noter, qu'il est parfaitement possible de parcourir une liste avec un for dans le template `{% for el in contenu[\"menu\"] %}.`"
   ]
  },
  {
   "cell_type": "markdown",
   "metadata": {},
   "source": [
    "# URL dynamique"
   ]
  },
  {
   "cell_type": "code",
   "execution_count": null,
   "metadata": {},
   "outputs": [],
   "source": [
    "\n",
    "\n",
    "# web.py\n",
    "# url dynamique\n",
    "@app.route('/afficher/<string:mot>')\n",
    "def afficher(mot):\n",
    "    # grâce au paramètre, qui porte le même nom que l'url dynamique,cette partie est récupérée dans la fonction\n",
    "    # dans cette exemple, elle est passé en paramètre à la page web\n",
    "    return render_template('afficher.html', mot = mot)\n",
    "\n"
   ]
  },
  {
   "cell_type": "code",
   "execution_count": null,
   "metadata": {},
   "outputs": [],
   "source": [
    "<!-- fichier templates/afficher.html -->\n",
    "{% block content %}\n",
    "    <!-- récupère  sous forme de variable la partie dynamique de l'URL -->\n",
    "    <h1>{% block title %} {{mot}} {% endblock %}</h1>\n",
    "\n",
    "    <p>\n",
    "        {{mot}}\n",
    "    </p>\n",
    "{% endblock %}"
   ]
  },
  {
   "cell_type": "markdown",
   "metadata": {},
   "source": [
    "Il ne reste plus qu'à générer l'URL dynamique, dans une page web, en passant un nouvel argument à `url_for().` "
   ]
  },
  {
   "cell_type": "code",
   "execution_count": null,
   "metadata": {},
   "outputs": [],
   "source": [
    "<!-- fichier templates/base.html -->\n",
    "<a href=\"{{ url_for('afficher', mot='gorille')}}\">Afficher mot</a>"
   ]
  },
  {
   "cell_type": "markdown",
   "metadata": {},
   "source": [
    "\n",
    "Documentation "
   ]
  },
  {
   "cell_type": "markdown",
   "metadata": {},
   "source": [
    "\n",
    "   - [la doc officielle](https://flask.palletsprojects.com/en/1.1.x/)\n",
    "   - [Tuto VS Code](https://code.visualstudio.com/docs/python/tutorial-flask)\n",
    "   - [TP Flask](file:///C:/Users/UTILIS~1/AppData/Local/ressources/kata_flask.pdf) \n"
   ]
  },
  {
   "cell_type": "markdown",
   "metadata": {},
   "source": [
    "## Déploiement"
   ]
  },
  {
   "cell_type": "markdown",
   "metadata": {},
   "source": [
    "Flask utilise un simple serveur web pour servir une application dans un environnement de développement, ce qui signifie également que le débogueur Flask est en cours d'exécution pour faciliter la capture des erreurs. Ce serveur de développement ne doit pas être utilisé dans un déploiement de production. Consultez la page des [options de déploiement ](https://flask.palletsprojects.com/en/1.1.x/deploying/) dans la documentation Flask pour plus d'informations, vous pouvez également consulter ce tutoriel sur le [déploiement de Flask.](https://www.digitalocean.com/community/tutorials/how-to-serve-flask-applications-with-gunicorn-and-nginx-on-ubuntu-18-04)"
   ]
  },
  {
   "cell_type": "code",
   "execution_count": null,
   "metadata": {},
   "outputs": [],
   "source": []
  }
 ],
 "metadata": {
  "kernelspec": {
   "display_name": "Python 3",
   "language": "python",
   "name": "python3"
  },
  "language_info": {
   "codemirror_mode": {
    "name": "ipython",
    "version": 3
   },
   "file_extension": ".py",
   "mimetype": "text/x-python",
   "name": "python",
   "nbconvert_exporter": "python",
   "pygments_lexer": "ipython3",
   "version": "3.8.3"
  }
 },
 "nbformat": 4,
 "nbformat_minor": 2
}
